{
 "cells": [
  {
   "cell_type": "markdown",
   "id": "007b5205",
   "metadata": {},
   "source": [
    "Import libraries"
   ]
  },
  {
   "cell_type": "code",
   "execution_count": 1,
   "id": "c52dd00a",
   "metadata": {},
   "outputs": [],
   "source": [
    "import seaborn as sn\n",
    "import pandas as pd\n",
    "import json, os, io\n",
    "import numpy as np\n",
    "import csv\n",
    "import matplotlib.pyplot as plt\n",
    "import random\n",
    "from collections import OrderedDict\n",
    "import time\n",
    "import random\n",
    "\n",
    "from sklearn.metrics import accuracy_score, recall_score, f1_score, precision_score, \\\n",
    "roc_auc_score, confusion_matrix, classification_report\n",
    "from sklearn.model_selection import StratifiedKFold\n",
    "from sklearn.model_selection import train_test_split\n",
    "\n",
    "from gensim.models import Word2Vec\n",
    "from gensim.models import FastText\n",
    "\n",
    "import tensorflow as tf\n",
    "from tensorflow.keras.preprocessing.text import Tokenizer\n",
    "from tensorflow.keras.preprocessing.sequence import pad_sequences\n",
    "from tensorflow.keras.models import Sequential\n",
    "from tensorflow.keras.layers import Dense, Activation, Dropout\n",
    "\n",
    "from tensorflow.keras import regularizers\n",
    "from tensorflow.keras import layers\n",
    "from tensorflow.keras.layers import LSTM, SimpleRNN\n",
    "from tensorflow.keras.layers import GRU\n",
    "from tensorflow.keras.layers import Masking\n",
    "from tensorflow.keras.layers import Embedding, MaxPool1D\n",
    "from tensorflow.keras.callbacks import CSVLogger\n",
    "from tensorflow.keras.callbacks import EarlyStopping, ModelCheckpoint\n",
    "from tensorflow.keras.models import load_model\n",
    "from tensorflow.keras import optimizers\n",
    "from tensorflow.keras.constraints import max_norm\n",
    "from tensorflow.keras.layers import Bidirectional, BatchNormalization\n",
    "from tensorflow.keras.layers import LeakyReLU\n",
    "from tensorflow.keras.initializers import glorot_uniform, RandomUniform, lecun_uniform, Constant\n",
    "from collections import OrderedDict\n",
    "from tensorflow.keras.layers import Conv1D\n",
    "from tensorflow.keras.layers import MaxPooling1D, GlobalMaxPool1D\n",
    "import tensorflow.keras.backend as K\n",
    "\n",
    "from tensorflow.keras.optimizers import Adam\n",
    "from tensorflow.keras.initializers import TruncatedNormal\n",
    "from tensorflow.keras.losses import CategoricalCrossentropy\n",
    "from tensorflow.keras.metrics import CategoricalAccuracy\n",
    "from tensorflow.keras.utils import to_categorical\n",
    "from tensorflow.keras.layers import Input, Dense, GlobalMaxPool1D\n",
    "from keras_preprocessing.text import tokenizer_from_json\n"
   ]
  },
  {
   "cell_type": "markdown",
   "id": "a0f55447",
   "metadata": {},
   "source": [
    "Specify a constant seeder for processes"
   ]
  },
  {
   "cell_type": "code",
   "execution_count": 2,
   "id": "5bbb1556",
   "metadata": {},
   "outputs": [],
   "source": [
    "seed = 123\n",
    "np.random.seed(seed)\n",
    "random.seed(seed)\n",
    "tf.random.set_seed(seed)"
   ]
  },
  {
   "cell_type": "code",
   "execution_count": 3,
   "id": "219c4925",
   "metadata": {},
   "outputs": [],
   "source": [
    "def dropEmpty(tokens0):\n",
    "    tokens = []\n",
    "    for i in range(0, len(tokens0)):\n",
    "        temp = tokens0[i]\n",
    "        if temp != []:\n",
    "            tokens.append(temp)\n",
    "    return tokens\n",
    "\n",
    "def listToString(s): \n",
    "    \n",
    "    # initialize an empty string\n",
    "    str1 = \"\" \n",
    "    \n",
    "    # traverse in the string \n",
    "    count = 0\n",
    "    for ele in s: \n",
    "        if count==0:\n",
    "            str1 = str1 + ele\n",
    "        else:\n",
    "            str1 = str1 + ' ' + ele\n",
    "        count = count + 1\n",
    "        #str1 += ele  \n",
    "    \n",
    "    # return string  \n",
    "    return str1\n",
    "\n",
    "def prepareData(data):\n",
    "        \n",
    "    # lowercase\n",
    "    lines = []\n",
    "    labels = []\n",
    "    headlines = []\n",
    "    for i in range(0, len(data)):\n",
    "        labels.append(int(data[i][1]))\n",
    "        headlines.append(data[i][0])\n",
    "        line = data[i][2:]\n",
    "        lows = [w.lower() for w in line]\n",
    "        lines.append(lows)\n",
    "    \n",
    "    texts = []\n",
    "    for i in range(0, len(lines)):\n",
    "        texts.append(listToString(lines[i]))\n",
    "    \n",
    "    return texts, labels, headlines "
   ]
  },
  {
   "cell_type": "markdown",
   "id": "88221c5a",
   "metadata": {},
   "source": [
    "Read dataset"
   ]
  },
  {
   "cell_type": "code",
   "execution_count": 4,
   "id": "c6af2cc0",
   "metadata": {},
   "outputs": [],
   "source": [
    "root_path = os.path.join('..', '..')\n",
    "with open(os.path.join(root_path, 'data', 'dataset.csv'), newline='', encoding='utf-8') as f:\n",
    "    reader = csv.reader(f)\n",
    "    data = list(reader)\n",
    "data = dropEmpty(data)"
   ]
  },
  {
   "cell_type": "markdown",
   "id": "cff99988",
   "metadata": {},
   "source": [
    "Shuffle dataset"
   ]
  },
  {
   "cell_type": "code",
   "execution_count": 5,
   "id": "06f1a1cf",
   "metadata": {},
   "outputs": [],
   "source": [
    "random.shuffle(data)"
   ]
  },
  {
   "cell_type": "code",
   "execution_count": 6,
   "id": "bf95bb76",
   "metadata": {},
   "outputs": [],
   "source": [
    "texts, labels, headlines = prepareData(data)"
   ]
  },
  {
   "cell_type": "markdown",
   "id": "4e09f413",
   "metadata": {},
   "source": [
    "Explore data"
   ]
  },
  {
   "cell_type": "code",
   "execution_count": 7,
   "id": "479d07b5",
   "metadata": {},
   "outputs": [
    {
     "name": "stdout",
     "output_type": "stream",
     "text": [
      "Elements in dataset: 4184\n",
      "2 categories found:\n",
      "0\n",
      "1\n"
     ]
    },
    {
     "data": {
      "image/png": "[encoded data removed]",
      "text/plain": [
       "<Figure size 2000x800 with 1 Axes>"
      ]
     },
     "metadata": {},
     "output_type": "display_data"
    }
   ],
   "source": [
    "n_elements=len(headlines)\n",
    "print('Elements in dataset:', n_elements)\n",
    "categories=sorted(list(set(labels))) #set will return the unique different entries\n",
    "n_categories=len(categories)\n",
    "print(\"{} categories found:\".format(n_categories))\n",
    "for category in categories:\n",
    "    print(category)\n",
    "    \n",
    "fig=plt.figure(figsize=(20,8))\n",
    "lbl, counts = np.unique(labels,return_counts=True)\n",
    "ticks = range(len(counts))\n",
    "plt.bar(ticks,counts, align='center')\n",
    "plt.xticks(ticks,lbl)\n",
    "plt.xticks(rotation=90)\n",
    "plt.ylabel('counts')\n",
    "plt.show()"
   ]
  },
  {
   "cell_type": "code",
   "execution_count": 8,
   "id": "9ab7af89",
   "metadata": {},
   "outputs": [
    {
     "data": {
      "text/html": [
       "<div>\n",
       "<style scoped>\n",
       "    .dataframe tbody tr th:only-of-type {\n",
       "        vertical-align: middle;\n",
       "    }\n",
       "\n",
       "    .dataframe tbody tr th {\n",
       "        vertical-align: top;\n",
       "    }\n",
       "\n",
       "    .dataframe thead th {\n",
       "        text-align: right;\n",
       "    }\n",
       "</style>\n",
       "<table border=\"1\" class=\"dataframe\">\n",
       "  <thead>\n",
       "    <tr style=\"text-align: right;\">\n",
       "      <th></th>\n",
       "      <th>Text</th>\n",
       "      <th>Labels</th>\n",
       "    </tr>\n",
       "  </thead>\n",
       "  <tbody>\n",
       "    <tr>\n",
       "      <th>0</th>\n",
       "      <td>class callbackmodule calls strid$ def __init__...</td>\n",
       "      <td>0</td>\n",
       "    </tr>\n",
       "    <tr>\n",
       "      <th>1</th>\n",
       "      <td>this_file os path abspath __file__ decode sys ...</td>\n",
       "      <td>0</td>\n",
       "    </tr>\n",
       "    <tr>\n",
       "      <th>2</th>\n",
       "      <td>class migration migrations migration dependenc...</td>\n",
       "      <td>0</td>\n",
       "    </tr>\n",
       "    <tr>\n",
       "      <th>3</th>\n",
       "      <td>dataset pd strid$ x dataset iloc numid$ values...</td>\n",
       "      <td>1</td>\n",
       "    </tr>\n",
       "    <tr>\n",
       "      <th>4</th>\n",
       "      <td>__metaclass__ type ansible_metadata strid$ str...</td>\n",
       "      <td>0</td>\n",
       "    </tr>\n",
       "  </tbody>\n",
       "</table>\n",
       "</div>"
      ],
      "text/plain": [
       "                                                Text  Labels\n",
       "0  class callbackmodule calls strid$ def __init__...       0\n",
       "1  this_file os path abspath __file__ decode sys ...       0\n",
       "2  class migration migrations migration dependenc...       0\n",
       "3  dataset pd strid$ x dataset iloc numid$ values...       1\n",
       "4  __metaclass__ type ansible_metadata strid$ str...       0"
      ]
     },
     "execution_count": 8,
     "metadata": {},
     "output_type": "execute_result"
    }
   ],
   "source": [
    "data = pd.DataFrame(({'Text': texts, 'Labels': labels}))\n",
    "data.head()"
   ]
  },
  {
   "cell_type": "code",
   "execution_count": 9,
   "id": "679c62db-d0bb-4eb0-9fc0-5e64bbbbe4d9",
   "metadata": {},
   "outputs": [
    {
     "name": "stdout",
     "output_type": "stream",
     "text": [
      "Maximum number of words per sequence: 510\n"
     ]
    }
   ],
   "source": [
    "word_counts = data[\"Text\"].apply(lambda x: len(x.split()))\n",
    "max_length = word_counts.max()\n",
    "print(\"Maximum number of words per sequence:\", max_length)"
   ]
  },
  {
   "cell_type": "code",
   "execution_count": 10,
   "id": "f9c05ac3-b2ab-4e4d-bb13-975f69d26f53",
   "metadata": {},
   "outputs": [
    {
     "name": "stdout",
     "output_type": "stream",
     "text": [
      "Label Frequencies:\n",
      " Labels\n",
      "0    3186\n",
      "1     998\n",
      "Name: count, dtype: int64\n",
      "Total samples  4184\n",
      "Number of classes: 2\n"
     ]
    }
   ],
   "source": [
    "label_frequencies = data['Labels'].value_counts()\n",
    "print(\"Label Frequencies:\\n\", label_frequencies)\n",
    "print(\"Total samples \", len(data))\n",
    "n_categories = len(label_frequencies)\n",
    "print(\"Number of classes:\", n_categories)"
   ]
  },
  {
   "cell_type": "markdown",
   "id": "8c17e94d-d33a-4580-82f5-82694cdf418f",
   "metadata": {},
   "source": [
    "Create word embedding vectors"
   ]
  },
  {
   "cell_type": "code",
   "execution_count": 11,
   "id": "b4ba78a0-056d-4cb8-9579-ccdc9cd07b5d",
   "metadata": {},
   "outputs": [],
   "source": [
    "def stringToList(string):\n",
    "    codeLinesList = []\n",
    "    for line in string.split():\n",
    "        codeLinesList.append(line)\n",
    "    return codeLinesList\n",
    "\n",
    "allTokens = []\n",
    "for seq in data[\"Text\"]:\n",
    "    listSeq = stringToList(seq)\n",
    "    allTokens.append(listSeq)\n",
    "\n",
    "data[\"Tokens\"] = allTokens\n",
    "#data[\"Tokens\"][0]"
   ]
  },
  {
   "cell_type": "code",
   "execution_count": 12,
   "id": "a8bde0a7-992d-4c62-a05b-7cf3894d782a",
   "metadata": {},
   "outputs": [],
   "source": [
    "# word embedding \n",
    "embeddings_index = {}\n",
    "f = open('w2v_embeddings.txt', encoding=\"utf-8\")\n",
    "for line in f:    \n",
    "    values = line.split()\n",
    "    word = values[0]\n",
    "    coefs = np.asarray(values[1:])\n",
    "    embeddings_index[word] = coefs   \n",
    "f.close() \n",
    "\n",
    "dim = 200"
   ]
  },
  {
   "cell_type": "code",
   "execution_count": 13,
   "id": "788c002f-2ba3-42da-831d-bfe27fbd53eb",
   "metadata": {},
   "outputs": [],
   "source": [
    "tokenizer_obj = Tokenizer()   \n",
    "tokenizer_obj.fit_on_texts(data[\"Tokens\"])\n",
    "\n",
    "tokenizer_json = tokenizer_obj.to_json()\n",
    "tokenizerFile = 'w2v_tokenizer.json'\n",
    "\n",
    "with io.open(tokenizerFile, 'w', encoding='utf-8') as f:\n",
    "    f.write(json.dumps(tokenizer_json, ensure_ascii=False))\n",
    "\n",
    "with open(tokenizerFile) as f:\n",
    "    dataTokenizer = json.load(f)\n",
    "    tokenizer_obj = tokenizer_from_json(dataTokenizer)\n",
    "\n",
    "sequences = tokenizer_obj.texts_to_sequences(data[\"Tokens\"])\n",
    "word_index = tokenizer_obj.word_index\n",
    "\n",
    "lines_pad = pad_sequences(sequences, padding = 'post', maxlen = max_length)\n",
    "\n",
    "num_words = len(word_index) + 1 # +1 for the unknown-zeros\n",
    "\n",
    "embedding_matrix = np.zeros((num_words, dim))\n",
    "for word, i in word_index.items():\n",
    "    if i > num_words:\n",
    "        continue\n",
    "    #embedding_vector = embeddings_index.get(word)\n",
    "    embedding_vector = embeddings_index.get(word)\n",
    "    if embedding_vector is not None:\n",
    "        embedding_matrix[i] = embedding_vector"
   ]
  },
  {
   "cell_type": "markdown",
   "id": "50b6f1bb",
   "metadata": {},
   "source": [
    "Split to train-val-test"
   ]
  },
  {
   "cell_type": "code",
   "execution_count": 14,
   "id": "68f3b8ae",
   "metadata": {},
   "outputs": [],
   "source": [
    "val_ratio = 0.10"
   ]
  },
  {
   "cell_type": "code",
   "execution_count": 15,
   "id": "2b54033e",
   "metadata": {},
   "outputs": [],
   "source": [
    "train_val_x, test_x, train_val_y, test_y = train_test_split(lines_pad, data['Labels'], test_size=val_ratio, random_state=seed, stratify=data['Labels'])\n",
    "train_x, val_x, train_y, val_y = train_test_split(train_val_x, train_val_y, test_size=val_ratio, random_state=seed, stratify=train_val_y)\n",
    "# print(len(data))\n",
    "# print(len(train_val_data))\n",
    "# print(len(test_data))\n",
    "# print(len(train_data))\n",
    "# print(len(val_data))\n",
    "# print(len(val_data)+len(train_data)+len(test_data))\n",
    "# print(len(val_data)+len(train_data))"
   ]
  },
  {
   "cell_type": "code",
   "execution_count": 16,
   "id": "c93ea56e-8a53-40f7-96c5-96ef1421cc61",
   "metadata": {},
   "outputs": [],
   "source": [
    "# rename\n",
    "x_train = train_x\n",
    "x_val = val_x\n",
    "x_test = test_x"
   ]
  },
  {
   "cell_type": "code",
   "execution_count": 17,
   "id": "e1877644",
   "metadata": {},
   "outputs": [],
   "source": [
    "y_train = np.array(train_y)\n",
    "y_val = np.array(val_y)\n",
    "y_test = np.array(test_y)"
   ]
  },
  {
   "cell_type": "markdown",
   "id": "5fc7a662-c72d-4107-8858-a2294da5fb8d",
   "metadata": {},
   "source": [
    "Deep Learning Models"
   ]
  },
  {
   "cell_type": "code",
   "execution_count": 18,
   "id": "f1613b2a-b8d3-44d5-af45-eced7f1a5e3b",
   "metadata": {},
   "outputs": [],
   "source": [
    "# Evaluation functions\n",
    "def recall_metric(y_true, y_pred):\n",
    "        true_positives = K.sum(K.round(K.clip(y_true * y_pred, 0, 1)))\n",
    "        possible_positives = K.sum(K.round(K.clip(y_true, 0, 1)))\n",
    "        recall = (true_positives + K.epsilon()) / (possible_positives + K.epsilon())\n",
    "        return recall\n",
    "\n",
    "def precision_metric(y_true, y_pred):\n",
    "        true_positives = K.sum(K.round(K.clip(y_true * y_pred, 0, 1)))\n",
    "        predicted_positives = K.sum(K.round(K.clip(y_pred, 0, 1)))\n",
    "        precision = (true_positives + K.epsilon()) / (predicted_positives + K.epsilon())\n",
    "        return precision\n",
    "\n",
    "def f1_metric(y_true, y_pred):\n",
    "\n",
    "    prec = precision_metric(y_true, y_pred)\n",
    "    rec = recall_metric(y_true, y_pred)\n",
    "    f1 = 2*((prec*rec)/(prec+rec+K.epsilon()))\n",
    "    return f1\n",
    "\n",
    "def f2_metric(y_true, y_pred):\n",
    "\n",
    "    prec = precision_metric(y_true, y_pred)\n",
    "    rec = recall_metric(y_true, y_pred)\n",
    "    f2 = 5*((prec*rec)/(4*prec+rec+K.epsilon()))\n",
    "    return f2"
   ]
  },
  {
   "cell_type": "code",
   "execution_count": 19,
   "id": "912029eb-5506-4dd3-b5d8-04d70baf6282",
   "metadata": {},
   "outputs": [],
   "source": [
    "  \n",
    "def buildLstm(max_len, top_words, dim, optimizer, seed, embedding_matrix, multi, n_outputs):\n",
    "    model=Sequential()\n",
    "    #model.add(Embedding(input_dim=top_words+1, output_dim=dim, input_length=None, mask_zero=True))\n",
    "    model.add(Embedding(input_dim=top_words, output_dim=dim, input_length=None, weights=[embedding_matrix], mask_zero=True, trainable=False))\n",
    "    #model.add(SimpleRNN(300, dropout=0.3, stateful=False))\n",
    "    model.add(LSTM(100, dropout=0.2, return_sequences=True, stateful=False))\n",
    "    model.add(LSTM(50, dropout=0.1, stateful=False))\n",
    "    #model.add(Bidirectional(LSTM(300, dropout=0.3, stateful=False)))\n",
    "    #model.add(GRU(300, dropout=0.3, stateful=False))\n",
    "    model.add(Activation('relu')) #dropout=0.2, recurrent_dropout=0.2, kernel_constraint=max_norm(3), bias_constraint=max_norm(3)\n",
    "    model.add(BatchNormalization())\n",
    "    if multi == False:\n",
    "        model.add(Dense(n_outputs, activation='sigmoid'))\n",
    "        model.compile(loss='binary_crossentropy', optimizer=optimizer, metrics=[f1_metric])  \n",
    "    else: \n",
    "        model.add(Dense(n_outputs, activation='softmax'))\n",
    "        model.compile(loss='sparse_categorical_crossentropy', optimizer=optimizer)\n",
    "    return model"
   ]
  },
  {
   "cell_type": "code",
   "execution_count": 20,
   "id": "425ddd92",
   "metadata": {},
   "outputs": [],
   "source": [
    "# hyperparams\n",
    "n_epoch = 100\n",
    "batch_size = 128\n",
    "optimizer = 'adam'\n",
    "patience = 10"
   ]
  },
  {
   "cell_type": "markdown",
   "id": "c1836761",
   "metadata": {},
   "source": [
    "Train model"
   ]
  },
  {
   "cell_type": "code",
   "execution_count": 21,
   "id": "5da66cde",
   "metadata": {},
   "outputs": [
    {
     "name": "stdout",
     "output_type": "stream",
     "text": [
      "Training...\n",
      "Model: \"sequential\"\n",
      "_________________________________________________________________\n",
      " Layer (type)                Output Shape              Param #   \n",
      "=================================================================\n",
      " embedding (Embedding)       (None, None, 200)         2136600   \n",
      "                                                                 \n",
      " lstm (LSTM)                 (None, None, 100)         120400    \n",
      "                                                                 \n",
      " lstm_1 (LSTM)               (None, 50)                30200     \n",
      "                                                                 \n",
      " activation (Activation)     (None, 50)                0         \n",
      "                                                                 \n",
      " batch_normalization (BatchN  (None, 50)               200       \n",
      " ormalization)                                                   \n",
      "                                                                 \n",
      " dense (Dense)               (None, 1)                 51        \n",
      "                                                                 \n",
      "=================================================================\n",
      "Total params: 2,287,451\n",
      "Trainable params: 150,751\n",
      "Non-trainable params: 2,136,700\n",
      "_________________________________________________________________\n",
      "model summary\\m None\n",
      "Epoch 1/100\n",
      "27/27 [==============================] - ETA: 0s - loss: 0.6160 - f1_metric: 0.5150\n",
      "Epoch 1: val_f1_metric improved from -inf to 0.59260, saving model to best_model.h5\n",
      "27/27 [==============================] - 65s 2s/step - loss: 0.6160 - f1_metric: 0.5150 - val_loss: 0.6118 - val_f1_metric: 0.5926\n",
      "Epoch 2/100\n",
      "27/27 [==============================] - ETA: 0s - loss: 0.4437 - f1_metric: 0.6671\n",
      "Epoch 2: val_f1_metric did not improve from 0.59260\n",
      "27/27 [==============================] - 39s 1s/step - loss: 0.4437 - f1_metric: 0.6671 - val_loss: 0.5360 - val_f1_metric: 0.5267\n",
      "Epoch 3/100\n",
      "27/27 [==============================] - ETA: 0s - loss: 0.3546 - f1_metric: 0.7542\n",
      "Epoch 3: val_f1_metric did not improve from 0.59260\n",
      "27/27 [==============================] - 43s 2s/step - loss: 0.3546 - f1_metric: 0.7542 - val_loss: 0.4757 - val_f1_metric: 0.5031\n",
      "Epoch 4/100\n",
      "27/27 [==============================] - ETA: 0s - loss: 0.2895 - f1_metric: 0.7894\n",
      "Epoch 4: val_f1_metric did not improve from 0.59260\n",
      "27/27 [==============================] - 43s 2s/step - loss: 0.2895 - f1_metric: 0.7894 - val_loss: 0.4296 - val_f1_metric: 0.5446\n",
      "Epoch 5/100\n",
      "27/27 [==============================] - ETA: 0s - loss: 0.2336 - f1_metric: 0.8336\n",
      "Epoch 5: val_f1_metric improved from 0.59260 to 0.64376, saving model to best_model.h5\n",
      "27/27 [==============================] - 53s 2s/step - loss: 0.2336 - f1_metric: 0.8336 - val_loss: 0.3798 - val_f1_metric: 0.6438\n",
      "Epoch 6/100\n",
      "27/27 [==============================] - ETA: 0s - loss: 0.2052 - f1_metric: 0.8664\n",
      "Epoch 6: val_f1_metric improved from 0.64376 to 0.66608, saving model to best_model.h5\n",
      "27/27 [==============================] - 50s 2s/step - loss: 0.2052 - f1_metric: 0.8664 - val_loss: 0.3515 - val_f1_metric: 0.6661\n",
      "Epoch 7/100\n",
      "27/27 [==============================] - ETA: 0s - loss: 0.1565 - f1_metric: 0.9013\n",
      "Epoch 7: val_f1_metric improved from 0.66608 to 0.73252, saving model to best_model.h5\n",
      "27/27 [==============================] - 39s 2s/step - loss: 0.1565 - f1_metric: 0.9013 - val_loss: 0.3305 - val_f1_metric: 0.7325\n",
      "Epoch 8/100\n",
      "27/27 [==============================] - ETA: 0s - loss: 0.1325 - f1_metric: 0.9082\n",
      "Epoch 8: val_f1_metric did not improve from 0.73252\n",
      "27/27 [==============================] - 54s 2s/step - loss: 0.1325 - f1_metric: 0.9082 - val_loss: 0.3079 - val_f1_metric: 0.7152\n",
      "Epoch 9/100\n",
      "27/27 [==============================] - ETA: 0s - loss: 0.1085 - f1_metric: 0.9199\n",
      "Epoch 9: val_f1_metric did not improve from 0.73252\n",
      "27/27 [==============================] - 48s 2s/step - loss: 0.1085 - f1_metric: 0.9199 - val_loss: 0.3022 - val_f1_metric: 0.7070\n",
      "Epoch 10/100\n",
      "27/27 [==============================] - ETA: 0s - loss: 0.0897 - f1_metric: 0.9395\n",
      "Epoch 10: val_f1_metric improved from 0.73252 to 0.74642, saving model to best_model.h5\n",
      "27/27 [==============================] - 43s 2s/step - loss: 0.0897 - f1_metric: 0.9395 - val_loss: 0.3137 - val_f1_metric: 0.7464\n",
      "Epoch 11/100\n",
      "27/27 [==============================] - ETA: 0s - loss: 0.0701 - f1_metric: 0.9585\n",
      "Epoch 11: val_f1_metric did not improve from 0.74642\n",
      "27/27 [==============================] - 44s 2s/step - loss: 0.0701 - f1_metric: 0.9585 - val_loss: 0.3002 - val_f1_metric: 0.7413\n",
      "Epoch 12/100\n",
      "27/27 [==============================] - ETA: 0s - loss: 0.0590 - f1_metric: 0.9623\n",
      "Epoch 12: val_f1_metric did not improve from 0.74642\n",
      "27/27 [==============================] - 35s 1s/step - loss: 0.0590 - f1_metric: 0.9623 - val_loss: 0.3343 - val_f1_metric: 0.7327\n",
      "Epoch 13/100\n",
      "27/27 [==============================] - ETA: 0s - loss: 0.0581 - f1_metric: 0.9638\n",
      "Epoch 13: val_f1_metric improved from 0.74642 to 0.74768, saving model to best_model.h5\n",
      "27/27 [==============================] - 45s 2s/step - loss: 0.0581 - f1_metric: 0.9638 - val_loss: 0.3115 - val_f1_metric: 0.7477\n",
      "Epoch 14/100\n",
      "27/27 [==============================] - ETA: 0s - loss: 0.0503 - f1_metric: 0.9707\n",
      "Epoch 14: val_f1_metric improved from 0.74768 to 0.76526, saving model to best_model.h5\n",
      "27/27 [==============================] - 39s 1s/step - loss: 0.0503 - f1_metric: 0.9707 - val_loss: 0.3336 - val_f1_metric: 0.7653\n",
      "Epoch 15/100\n",
      "27/27 [==============================] - ETA: 0s - loss: 0.0427 - f1_metric: 0.9761\n",
      "Epoch 15: val_f1_metric did not improve from 0.76526\n",
      "27/27 [==============================] - 54s 2s/step - loss: 0.0427 - f1_metric: 0.9761 - val_loss: 0.3932 - val_f1_metric: 0.7284\n",
      "Epoch 16/100\n",
      "27/27 [==============================] - ETA: 0s - loss: 0.0336 - f1_metric: 0.9784\n",
      "Epoch 16: val_f1_metric did not improve from 0.76526\n",
      "27/27 [==============================] - 48s 2s/step - loss: 0.0336 - f1_metric: 0.9784 - val_loss: 0.3955 - val_f1_metric: 0.7531\n",
      "Epoch 17/100\n",
      "27/27 [==============================] - ETA: 0s - loss: 0.0374 - f1_metric: 0.9748\n",
      "Epoch 17: val_f1_metric improved from 0.76526 to 0.77121, saving model to best_model.h5\n",
      "27/27 [==============================] - 47s 2s/step - loss: 0.0374 - f1_metric: 0.9748 - val_loss: 0.4094 - val_f1_metric: 0.7712\n",
      "Epoch 18/100\n",
      "27/27 [==============================] - ETA: 0s - loss: 0.0291 - f1_metric: 0.9800\n",
      "Epoch 18: val_f1_metric did not improve from 0.77121\n",
      "27/27 [==============================] - 46s 2s/step - loss: 0.0291 - f1_metric: 0.9800 - val_loss: 0.4024 - val_f1_metric: 0.7603\n",
      "Epoch 19/100\n",
      "27/27 [==============================] - ETA: 0s - loss: 0.0315 - f1_metric: 0.9816\n",
      "Epoch 19: val_f1_metric did not improve from 0.77121\n",
      "27/27 [==============================] - 43s 2s/step - loss: 0.0315 - f1_metric: 0.9816 - val_loss: 0.4591 - val_f1_metric: 0.7547\n",
      "Epoch 20/100\n",
      "27/27 [==============================] - ETA: 0s - loss: 0.0239 - f1_metric: 0.9871\n",
      "Epoch 20: val_f1_metric did not improve from 0.77121\n",
      "27/27 [==============================] - 49s 2s/step - loss: 0.0239 - f1_metric: 0.9871 - val_loss: 0.5038 - val_f1_metric: 0.7185\n",
      "Epoch 21/100\n",
      "27/27 [==============================] - ETA: 0s - loss: 0.0274 - f1_metric: 0.9841\n",
      "Epoch 21: val_f1_metric did not improve from 0.77121\n",
      "27/27 [==============================] - 38s 1s/step - loss: 0.0274 - f1_metric: 0.9841 - val_loss: 0.6014 - val_f1_metric: 0.7273\n",
      "Epoch 22/100\n",
      "27/27 [==============================] - ETA: 0s - loss: 0.0273 - f1_metric: 0.9827\n",
      "Epoch 22: val_f1_metric did not improve from 0.77121\n",
      "27/27 [==============================] - 50s 2s/step - loss: 0.0273 - f1_metric: 0.9827 - val_loss: 0.5250 - val_f1_metric: 0.7505\n",
      "Epoch 23/100\n",
      "27/27 [==============================] - ETA: 0s - loss: 0.0317 - f1_metric: 0.9768\n",
      "Epoch 23: val_f1_metric did not improve from 0.77121\n",
      "27/27 [==============================] - 44s 2s/step - loss: 0.0317 - f1_metric: 0.9768 - val_loss: 0.4501 - val_f1_metric: 0.7179\n",
      "Epoch 24/100\n",
      "27/27 [==============================] - ETA: 0s - loss: 0.0251 - f1_metric: 0.9804\n",
      "Epoch 24: val_f1_metric did not improve from 0.77121\n",
      "27/27 [==============================] - 48s 2s/step - loss: 0.0251 - f1_metric: 0.9804 - val_loss: 0.4933 - val_f1_metric: 0.7474\n",
      "Epoch 25/100\n",
      "27/27 [==============================] - ETA: 0s - loss: 0.0217 - f1_metric: 0.9887\n",
      "Epoch 25: val_f1_metric did not improve from 0.77121\n",
      "27/27 [==============================] - 34s 1s/step - loss: 0.0217 - f1_metric: 0.9887 - val_loss: 0.5817 - val_f1_metric: 0.7682\n",
      "Epoch 26/100\n",
      "27/27 [==============================] - ETA: 0s - loss: 0.0140 - f1_metric: 0.9924\n",
      "Epoch 26: val_f1_metric did not improve from 0.77121\n",
      "27/27 [==============================] - 53s 2s/step - loss: 0.0140 - f1_metric: 0.9924 - val_loss: 0.4750 - val_f1_metric: 0.7517\n",
      "Epoch 27/100\n",
      "27/27 [==============================] - ETA: 0s - loss: 0.0111 - f1_metric: 0.9944\n",
      "Epoch 27: val_f1_metric did not improve from 0.77121\n",
      "27/27 [==============================] - 52s 2s/step - loss: 0.0111 - f1_metric: 0.9944 - val_loss: 0.5084 - val_f1_metric: 0.7477\n",
      "Epoch 27: early stopping\n",
      "Training is completed after 1249454\n"
     ]
    }
   ],
   "source": [
    "print(\"Training...\")\n",
    "milli_sec1 = int(round(time.time() * 1000))\n",
    "\n",
    "myModel = buildLstm(max_length, num_words, dim, optimizer, seed, embedding_matrix, False, 1)\n",
    "print(\"model summary\\m\",myModel.summary())\n",
    "\n",
    "csv_logger = CSVLogger('log.csv', append=True, separator=',')\n",
    "es = EarlyStopping(monitor='val_f1_metric', mode='max', verbose=1, patience=patience)\n",
    "mc = ModelCheckpoint('best_model.h5', monitor='val_f1_metric', mode='max', verbose=1, save_best_only=True)\n",
    "\n",
    "history = myModel.fit(x_train, y_train, validation_data=(x_val, y_val), epochs = n_epoch, batch_size = batch_size, verbose=1, callbacks=[csv_logger,es,mc])\n",
    "\n",
    "milli_sec2 = int(round(time.time() * 1000))\n",
    "print(\"Training is completed after\", milli_sec2-milli_sec1)"
   ]
  },
  {
   "cell_type": "markdown",
   "id": "3387b315-e5d5-4b12-8acb-679183b1762f",
   "metadata": {},
   "source": [
    "Load best model"
   ]
  },
  {
   "cell_type": "code",
   "execution_count": 22,
   "id": "0199a0c9-3c4b-4226-b54a-9ac9c998f5fd",
   "metadata": {},
   "outputs": [],
   "source": [
    "myModel.load_weights(\"best_model.h5\")"
   ]
  },
  {
   "cell_type": "markdown",
   "id": "b90781fe",
   "metadata": {},
   "source": [
    "Make predictions on the testing set and compute evaluation metrics"
   ]
  },
  {
   "cell_type": "code",
   "execution_count": 23,
   "id": "4c019f25",
   "metadata": {},
   "outputs": [
    {
     "name": "stdout",
     "output_type": "stream",
     "text": [
      "14/14 [==============================] - 3s 87ms/step\n",
      "              precision    recall  f1-score   support\n",
      "\n",
      "           0       0.90      0.91      0.90       319\n",
      "           1       0.69      0.68      0.69       100\n",
      "\n",
      "    accuracy                           0.85       419\n",
      "   macro avg       0.80      0.79      0.79       419\n",
      "weighted avg       0.85      0.85      0.85       419\n",
      "\n"
     ]
    }
   ],
   "source": [
    "predScores = myModel.predict(x_test)\n",
    "predictions = (predScores > 0.5).astype(\"int32\")\n",
    "\n",
    "print(classification_report(y_test, predictions))"
   ]
  },
  {
   "cell_type": "code",
   "execution_count": 24,
   "id": "12c1d9e6",
   "metadata": {},
   "outputs": [
    {
     "name": "stdout",
     "output_type": "stream",
     "text": [
      "TP= 68\n",
      "TN= 289\n",
      "FP= 30\n",
      "FN= 32\n",
      "Accuracy:85.20%\n",
      "Precision:69.39%\n",
      "Recall:68.00%\n",
      "Roc_Auc score:79.30%\n",
      "F1 score:68.69%\n",
      "F2 score:68.27%\n"
     ]
    },
    {
     "data": {
      "image/png": "[encoded data removed]",
      "text/plain": [
       "<Figure size 640x480 with 2 Axes>"
      ]
     },
     "metadata": {},
     "output_type": "display_data"
    }
   ],
   "source": [
    "accuracy=accuracy_score(y_test, predictions)\n",
    "precision=precision_score(y_test, predictions)\n",
    "recall=recall_score(y_test, predictions)\n",
    "roc_auc=roc_auc_score(y_test, predictions)\n",
    "f1=f1_score(y_test, predictions)\n",
    "f2 = (5*precision*recall) / (4*precision+recall)\n",
    "\n",
    "conf_matrix = confusion_matrix(y_test, predictions)\n",
    "sn.heatmap(conf_matrix, annot=True)\n",
    "\n",
    "tn, fp, fn, tp = conf_matrix.ravel()\n",
    "acc = ((tp+tn)/(tp+tn+fp+fn))\n",
    "print(\"TP=\",tp)\n",
    "print(\"TN=\",tn)\n",
    "print(\"FP=\",fp)\n",
    "print(\"FN=\",fn)\n",
    "\n",
    "print(\"Accuracy:%.2f%%\"%(accuracy*100))\n",
    "print(\"Precision:%.2f%%\"%(precision*100))\n",
    "print(\"Recall:%.2f%%\"%(recall*100))\n",
    "print(\"Roc_Auc score:%.2f%%\"%(roc_auc*100))\n",
    "print(\"F1 score:%.2f%%\"%(f1*100))\n",
    "print(\"F2 score:%.2f%%\"%(f2*100))"
   ]
  },
  {
   "cell_type": "code",
   "execution_count": null,
   "id": "ebb15c5f-81f4-4be9-a1ff-1b1b7c0c6d0f",
   "metadata": {},
   "outputs": [],
   "source": []
  }
 ],
 "metadata": {
  "kernelspec": {
   "display_name": "Python 3 (ipykernel)",
   "language": "python",
   "name": "python3"
  },
  "language_info": {
   "codemirror_mode": {
    "name": "ipython",
    "version": 3
   },
   "file_extension": ".py",
   "mimetype": "text/x-python",
   "name": "python",
   "nbconvert_exporter": "python",
   "pygments_lexer": "ipython3",
   "version": "3.9.19"
  }
 },
 "nbformat": 4,
 "nbformat_minor": 5
}
