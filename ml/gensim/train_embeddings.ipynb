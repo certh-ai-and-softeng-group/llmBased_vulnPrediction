{
 "cells": [
  {
   "cell_type": "code",
   "execution_count": 33,
   "id": "adb90555",
   "metadata": {},
   "outputs": [],
   "source": [
    "import csv, os\n",
    "from gensim.models import Word2Vec\n",
    "from gensim.models import FastText\n",
    "\n",
    "import re\n",
    "import nltk\n",
    "from nltk.tokenize import word_tokenize"
   ]
  },
  {
   "cell_type": "code",
   "execution_count": 34,
   "id": "4048dd72-96d6-4be1-b685-86ac1a3de738",
   "metadata": {},
   "outputs": [
    {
     "name": "stderr",
     "output_type": "stream",
     "text": [
      "[nltk_data] Downloading package punkt to\n",
      "[nltk_data]     C:\\Users\\iliaskaloup\\AppData\\Roaming\\nltk_data...\n",
      "[nltk_data]   Package punkt is already up-to-date!\n"
     ]
    },
    {
     "data": {
      "text/plain": [
       "True"
      ]
     },
     "execution_count": 34,
     "metadata": {},
     "output_type": "execute_result"
    }
   ],
   "source": [
    "nltk.download('punkt')"
   ]
  },
  {
   "cell_type": "code",
   "execution_count": 35,
   "id": "6788dfd4",
   "metadata": {},
   "outputs": [],
   "source": [
    "seed = 123"
   ]
  },
  {
   "cell_type": "code",
   "execution_count": 36,
   "id": "3a81000b",
   "metadata": {},
   "outputs": [],
   "source": [
    "# hyperparams\n",
    "\n",
    "dim = 200\n",
    "method = \"w2v\" # ft\n",
    "min_count = 10\n",
    "epochs = 100"
   ]
  },
  {
   "cell_type": "code",
   "execution_count": 37,
   "id": "2313c25a",
   "metadata": {},
   "outputs": [],
   "source": [
    "# read embddings corpus corpus_embeddings\n",
    "root_path = os.path.join('..', '..')\n",
    "\n",
    "with open(os.path.join(root_path, 'data', 'py_corpus.txt'), 'r', encoding='utf-8') as file:\n",
    "    corpus = file.read() #.lower().replace('\\n', ' ')\n",
    "    "
   ]
  },
  {
   "cell_type": "code",
   "execution_count": 38,
   "id": "44c741ee",
   "metadata": {},
   "outputs": [],
   "source": [
    "def dropEmpty(tokens0):\n",
    "    tokens = []\n",
    "    for i in range(0, len(tokens0)):\n",
    "        temp = tokens0[i]\n",
    "        if temp != []:\n",
    "            tokens.append(temp)\n",
    "    return tokens\n",
    "\n",
    "def listToString(s): \n",
    "    \n",
    "    # initialize an empty string\n",
    "    str1 = \"\" \n",
    "    \n",
    "    # traverse in the string  \n",
    "    for ele in s: \n",
    "        str1 += ele  \n",
    "    \n",
    "    # return string  \n",
    "    return str1 \n",
    "\n",
    "def stringToList(string):\n",
    "    codeLinesList = []\n",
    "    for line in string.splitlines():\n",
    "        codeLinesList.append(line)\n",
    "    return codeLinesList\n",
    "\n",
    "def remove_comments(input_str):\n",
    "    \n",
    "    input_str = re.sub('#.*', '', input_str)\n",
    "    input_str = re.sub('\"\"\".*\"\"\"', '', input_str)              \n",
    "\n",
    "    doc_reg_1 = r'(\"\"\"|\\'\\'\\')([\\s\\S]*?)(\\1\\s*)(?=class)'\n",
    "    doc_reg_2 = r'(\\s+def\\s+.*:\\s*)\\n(\\s*\"\"\"|\\s*\\'\\'\\')([\\s\\S]*?)(\\2[^\\n\\S]*)'\n",
    "    input_str = re.sub(doc_reg_1, '', input_str)\n",
    "    input_str = re.sub(doc_reg_2, r'\\1', input_str)\n",
    "    \n",
    "    return input_str\n",
    "    \n",
    "def dropHeaders(lines):\n",
    "    linList = []\n",
    "    for line in lines:\n",
    "        if not re.search('import',line):\n",
    "             if not re.search('from',line):\n",
    "                  linList.append(line)\n",
    "    return linList\n",
    "\n",
    "def dropBlank(tokens0):\n",
    "    tokens = []\n",
    "    for i in range(0, len(tokens0)):\n",
    "        temp = tokens0[i]\n",
    "        if temp != '':\n",
    "            tokens.append(temp)\n",
    "    return tokens\n",
    "\n",
    "def tokenizeLines(linesNoCom):\n",
    "    # codeTokens = []\n",
    "    \n",
    "    # for line in codeLinesList:\n",
    "    #     #templineTokens = re.split('[\\.,\\[\\];:(\\s)?\\\\\\\\!\\t{}\"<>+=~*&^%/|\\\\-\\']', line)\n",
    "    #     templineTokens = word_tokenize(line)\n",
    "    #     codeTokens.extend(templineTokens)\n",
    "    \n",
    "    return word_tokenize(linesNoCom)\n",
    "\n",
    "def dataTokenization(corpus, filename, comments, strings, numericals, headers):\n",
    "    \n",
    "    allTokens = []\n",
    "    for i in range(0, len(corpus)):\n",
    "        stringLines = corpus[i]\n",
    "        \n",
    "        if numericals == 0:\n",
    "            stringLinesNoDigit = re.sub(r\"$\\d+\\W+|\\b\\d+\\b|\\W+\\d+$\", \"<numId$>\", stringLines) #replace numbers \n",
    "        else:\n",
    "            stringLinesNoDigit = stringLines\n",
    "        \n",
    "        if strings == 0:\n",
    "            stringLinesNoStr = re.sub(r'([\"])(?:(?=(\\\\?))\\2.)*?\\1', \"<strId$>\", stringLinesNoDigit) #replace strings       \n",
    "            stringLinesNoChar = re.sub(r\"(['])(?:(?=(\\\\?))\\2.)*?\\1\", \"<strId$>\", stringLinesNoStr) #replace chars\n",
    "        else:\n",
    "            stringLinesNoChar = stringLinesNoDigit\n",
    "        \n",
    "        if comments == 0:\n",
    "            #remove comments from source code\n",
    "            linesNoCom = remove_comments(stringLinesNoChar)\n",
    "        else:\n",
    "            linesNoCom = stringLinesNoChar\n",
    "        \n",
    "        # #convert source code from string to list of lines\n",
    "        # lines = stringToList(linesNoCom)\n",
    "        \n",
    "        # #remove headers\n",
    "        # if headers == 0:\n",
    "        #     lines = dropHeaders(lines)\n",
    "        \n",
    "        #tokenize lines to list of words\n",
    "        tokens = tokenizeLines(linesNoCom)\n",
    "        \n",
    "        # #remove blank lines\n",
    "        # tokens = dropBlank(tokens0)\n",
    "        \n",
    "        #lower case\n",
    "        for w in range(0, len(tokens)):\n",
    "            tokens[w] = tokens[w].lower()\n",
    "         \n",
    "        allTokens.append(tokens)\n",
    "        \n",
    "    \n",
    "#     with open(filename,\"w\", encoding=\"utf-8\") as f:\n",
    "#         wr = csv.writer(f)\n",
    "#         wr.writerows(allTokens)\n",
    "        \n",
    "    return allTokens"
   ]
  },
  {
   "cell_type": "code",
   "execution_count": 39,
   "id": "12983e4b",
   "metadata": {},
   "outputs": [],
   "source": [
    "def embVectors(dim, epochs, min_count, method, corpus, comments, strings, numericals, headers): \n",
    "\n",
    "    # preprocess corpus\n",
    "    corpusList = corpus.split(\"def\")  # Splitting from 'def'\n",
    "    data = dataTokenization(corpusList, \"corpus.csv\", comments, strings, numericals, headers)\n",
    "    \n",
    "#     with open(\"corpus.csv\", newline='', encoding='utf-8') as f:\n",
    "#         reader = csv.reader(x.replace('\\0', '') for x in f)\n",
    "#         data = list(reader)\n",
    "    data = dropEmpty(data)\n",
    "    \n",
    "    if method == \"w2v\": \n",
    "        model = Word2Vec(data, vector_size=dim, workers=4, epochs=epochs, min_count=min_count) #, window=20\n",
    "        fileEmb = method + '_embeddings.txt'\n",
    "        model.wv.save_word2vec_format(fileEmb, binary=False)\n",
    "    elif method == \"ft\":\n",
    "        model_ted = FastText(vector_size=dim, min_count=min_count)\n",
    "        model_ted.build_vocab(corpus_iterable=data)\n",
    "        model_ted.train(corpus_iterable=data, total_examples=len(data), epochs=epochs)\n",
    "        fileEmb = method + '_embeddings.txt'\n",
    "        model_ted.wv.save_word2vec_format(fileEmb, binary=False)\n",
    "    \n",
    "    return fileEmb"
   ]
  },
  {
   "cell_type": "code",
   "execution_count": 40,
   "id": "e6558ac3",
   "metadata": {},
   "outputs": [],
   "source": [
    "fileEmb = embVectors(dim, epochs, min_count, method, corpus, 1, 1, 1, 1)"
   ]
  }
 ],
 "metadata": {
  "kernelspec": {
   "display_name": "Python 3 (ipykernel)",
   "language": "python",
   "name": "python3"
  },
  "language_info": {
   "codemirror_mode": {
    "name": "ipython",
    "version": 3
   },
   "file_extension": ".py",
   "mimetype": "text/x-python",
   "name": "python",
   "nbconvert_exporter": "python",
   "pygments_lexer": "ipython3",
   "version": "3.9.19"
  }
 },
 "nbformat": 4,
 "nbformat_minor": 5
}
